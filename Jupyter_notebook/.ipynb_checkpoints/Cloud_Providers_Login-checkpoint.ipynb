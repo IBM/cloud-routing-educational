{
 "cells": [
  {
   "cell_type": "markdown",
   "id": "82d5e19a",
   "metadata": {},
   "source": [
    "# Cloud Providers Login"
   ]
  },
  {
   "cell_type": "markdown",
   "id": "8aea69b1",
   "metadata": {},
   "source": [
    "Please run the following setups to login for each cloud provider:"
   ]
  },
  {
   "cell_type": "markdown",
   "id": "c1f7e838",
   "metadata": {},
   "source": [
    "## 1. Google Cloud"
   ]
  },
  {
   "cell_type": "markdown",
   "id": "deb6d438",
   "metadata": {},
   "source": [
    "1. Please make sure you have activate cloud account in Google cloud and a private authorization key:"
   ]
  },
  {
   "cell_type": "code",
   "execution_count": null,
   "id": "83f46b2f",
   "metadata": {},
   "outputs": [],
   "source": [
    "!gcloud auth activate-service-account test-service-account@google.com --key-file=/path/key.json --project=testproject"
   ]
  },
  {
   "cell_type": "code",
   "execution_count": null,
   "id": "590fe7ab",
   "metadata": {},
   "outputs": [],
   "source": [
    "!gcloud auth configure-docker"
   ]
  },
  {
   "cell_type": "markdown",
   "id": "909d5412",
   "metadata": {},
   "source": [
    "2. For more information check [GCloud Auth Docs](https://cloud.google.com/sdk/gcloud/reference/auth/activate-service-account)"
   ]
  },
  {
   "cell_type": "markdown",
   "id": "981d0c22",
   "metadata": {},
   "source": [
    "## 2. AWS"
   ]
  },
  {
   "cell_type": "markdown",
   "id": "de576773",
   "metadata": {},
   "source": [
    "1. Please make sure you have activate cloud account in AWS, AWS Access Key ID and AWS Secret Access Key."
   ]
  },
  {
   "cell_type": "markdown",
   "id": "fd79db59",
   "metadata": {},
   "source": [
    "2. From terminal run the following command:"
   ]
  },
  {
   "cell_type": "code",
   "execution_count": null,
   "id": "c11378f0",
   "metadata": {},
   "outputs": [],
   "source": [
    "! aws configure"
   ]
  },
  {
   "cell_type": "markdown",
   "id": "62e584dd",
   "metadata": {},
   "source": [
    "3. For more information check [AWS configure DOC](https://docs.aws.amazon.com/cli/latest/userguide/cli-configure-quickstart.html)"
   ]
  },
  {
   "cell_type": "markdown",
   "id": "5aee57c7",
   "metadata": {},
   "source": [
    "## 3. IBM Cloud"
   ]
  },
  {
   "cell_type": "markdown",
   "id": "78512dc0",
   "metadata": {},
   "source": [
    "1. Please make sure you have activate cloud account in IBM cloud\n",
    "2. Create an API Key according to this documentation: https://cloud.ibm.com/docs/account?topic=account-userapikey&interface=ui\n",
    "2. Connect to IBM Cloud with the following command:"
   ]
  },
  {
   "cell_type": "code",
   "execution_count": null,
   "id": "c8049cd0",
   "metadata": {},
   "outputs": [],
   "source": [
    "! ibmcloud login --apikey @ <apikey.json>"
   ]
  }
 ],
 "metadata": {
  "kernelspec": {
   "display_name": "Python 3",
   "language": "python",
   "name": "python3"
  },
  "language_info": {
   "codemirror_mode": {
    "name": "ipython",
    "version": 3
   },
   "file_extension": ".py",
   "mimetype": "text/x-python",
   "name": "python",
   "nbconvert_exporter": "python",
   "pygments_lexer": "ipython3",
   "version": "3.9.6"
  }
 },
 "nbformat": 4,
 "nbformat_minor": 5
}
